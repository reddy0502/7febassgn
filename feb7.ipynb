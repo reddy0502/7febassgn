{
 "cells": [
  {
   "cell_type": "markdown",
   "id": "dd9dfa24-4176-449b-89df-e6d5bb7a7b06",
   "metadata": {},
   "source": [
    "ans1:\n"
   ]
  },
  {
   "cell_type": "code",
   "execution_count": 2,
   "id": "71a6ea02-b643-4993-b3ba-63fa0786517f",
   "metadata": {},
   "outputs": [],
   "source": [
    "def isvalid(x):\n",
    "    ans=True\n",
    "    num=0\n",
    "    l=0\n",
    "    u=0\n",
    "    j=0\n",
    "    for i in x:\n",
    "        if i.isupper():\n",
    "            u=u+1\n",
    "        elif i.islower():\n",
    "            l=l+1\n",
    "        elif i.isnumeric():\n",
    "            num=num+1\n",
    "        j=j+1\n",
    "            \n",
    "    if l<2 or u<2:\n",
    "        ans=False\n",
    "    \n",
    "    if num==0:\n",
    "        ans=False\n",
    "    \n",
    "    if j<10:\n",
    "        ans=False\n",
    "    return ans"
   ]
  },
  {
   "cell_type": "code",
   "execution_count": 3,
   "id": "5922fd1f-adb6-4185-8e4a-8e12c7327b5e",
   "metadata": {},
   "outputs": [
    {
     "data": {
      "text/plain": [
       "True"
      ]
     },
     "execution_count": 3,
     "metadata": {},
     "output_type": "execute_result"
    }
   ],
   "source": [
    "isvalid('MEJasd123456')"
   ]
  },
  {
   "cell_type": "markdown",
   "id": "d9758889-0516-43e5-bd43-659523656688",
   "metadata": {},
   "source": [
    "ans2:"
   ]
  },
  {
   "cell_type": "code",
   "execution_count": 5,
   "id": "96bb7fcd-d009-49e4-8f6c-47065d20d3a6",
   "metadata": {},
   "outputs": [],
   "source": [
    "a=lambda x : x[0]=='a'"
   ]
  },
  {
   "cell_type": "code",
   "execution_count": 6,
   "id": "8a061c61-e337-4d59-a7b5-61a2d3402b4f",
   "metadata": {},
   "outputs": [
    {
     "data": {
      "text/plain": [
       "True"
      ]
     },
     "execution_count": 6,
     "metadata": {},
     "output_type": "execute_result"
    }
   ],
   "source": [
    "a('ansmdn')"
   ]
  },
  {
   "cell_type": "code",
   "execution_count": 39,
   "id": "694944d0-85dc-48f0-b65a-16db4e09bdc2",
   "metadata": {},
   "outputs": [
    {
     "data": {
      "text/plain": [
       "False"
      ]
     },
     "execution_count": 39,
     "metadata": {},
     "output_type": "execute_result"
    }
   ],
   "source": [
    "a('bmjku')"
   ]
  },
  {
   "cell_type": "code",
   "execution_count": 40,
   "id": "097045cc-1c0c-465a-947e-4ab37f2cfd66",
   "metadata": {},
   "outputs": [],
   "source": [
    "b=lambda x : x.isnumeric()"
   ]
  },
  {
   "cell_type": "code",
   "execution_count": 9,
   "id": "bf3f7ae2-eede-406f-af8c-836136005ddc",
   "metadata": {},
   "outputs": [
    {
     "data": {
      "text/plain": [
       "True"
      ]
     },
     "execution_count": 9,
     "metadata": {},
     "output_type": "execute_result"
    }
   ],
   "source": [
    "b('123644')"
   ]
  },
  {
   "cell_type": "code",
   "execution_count": 10,
   "id": "eca03506-3e65-4250-96e1-156d3ebafef9",
   "metadata": {},
   "outputs": [
    {
     "data": {
      "text/plain": [
       "False"
      ]
     },
     "execution_count": 10,
     "metadata": {},
     "output_type": "execute_result"
    }
   ],
   "source": [
    "b('12323a')"
   ]
  },
  {
   "cell_type": "code",
   "execution_count": 11,
   "id": "c05d42dc-727f-4752-8099-e8f6f1bcdcb2",
   "metadata": {},
   "outputs": [],
   "source": [
    "l=[(\"mango\",99),(\"orange\",80), (\"grapes\", 1000)]"
   ]
  },
  {
   "cell_type": "code",
   "execution_count": 12,
   "id": "486b117c-b1eb-4bed-a4e3-b50d9fc06410",
   "metadata": {},
   "outputs": [
    {
     "data": {
      "text/plain": [
       "[('mango', 99), ('orange', 80), ('grapes', 1000)]"
      ]
     },
     "execution_count": 12,
     "metadata": {},
     "output_type": "execute_result"
    }
   ],
   "source": [
    "l"
   ]
  },
  {
   "cell_type": "code",
   "execution_count": 13,
   "id": "19e9dd84-82c6-46d8-8803-187816cb96b9",
   "metadata": {},
   "outputs": [],
   "source": [
    "l.sort(key=lambda x:x[1])"
   ]
  },
  {
   "cell_type": "code",
   "execution_count": 14,
   "id": "f7814170-17b9-4d49-a526-6f53a64ab78e",
   "metadata": {},
   "outputs": [
    {
     "data": {
      "text/plain": [
       "[('orange', 80), ('mango', 99), ('grapes', 1000)]"
      ]
     },
     "execution_count": 14,
     "metadata": {},
     "output_type": "execute_result"
    }
   ],
   "source": [
    "l"
   ]
  },
  {
   "cell_type": "code",
   "execution_count": 32,
   "id": "b6cde3c4-a468-453a-ae47-9ca782101544",
   "metadata": {},
   "outputs": [],
   "source": [
    "l=[1,2,3,4,5,6,7,8,9,10]\n"
   ]
  },
  {
   "cell_type": "code",
   "execution_count": 33,
   "id": "e137b7bd-2699-4618-b0a5-4c75a6748824",
   "metadata": {},
   "outputs": [
    {
     "data": {
      "text/plain": [
       "[1, 2, 3, 4, 5, 6, 7, 8, 9, 10]"
      ]
     },
     "execution_count": 33,
     "metadata": {},
     "output_type": "execute_result"
    }
   ],
   "source": [
    "l"
   ]
  },
  {
   "cell_type": "code",
   "execution_count": 34,
   "id": "2e66a969-7362-4c8c-a697-7d844ecb213d",
   "metadata": {},
   "outputs": [
    {
     "data": {
      "text/plain": [
       "[1, 4, 9, 16, 25, 36, 49, 64, 81, 100]"
      ]
     },
     "execution_count": 34,
     "metadata": {},
     "output_type": "execute_result"
    }
   ],
   "source": [
    "list(map(lambda x:x**2,l))"
   ]
  },
  {
   "cell_type": "code",
   "execution_count": 35,
   "id": "1f96e92d-8b60-452d-a9c5-50e2f85dc43e",
   "metadata": {},
   "outputs": [
    {
     "data": {
      "text/plain": [
       "[1, 8, 27, 64, 125, 216, 343, 512, 729, 1000]"
      ]
     },
     "execution_count": 35,
     "metadata": {},
     "output_type": "execute_result"
    }
   ],
   "source": [
    "list(map(lambda x:x**3,l))"
   ]
  },
  {
   "cell_type": "code",
   "execution_count": 36,
   "id": "d4941c47-d91e-4147-bfe0-70391ae1586c",
   "metadata": {},
   "outputs": [],
   "source": [
    "def iseven(x):\n",
    "    if x%2==0:\n",
    "        return x"
   ]
  },
  {
   "cell_type": "code",
   "execution_count": 37,
   "id": "a297226f-fcf0-4193-9c81-e764a1a3c2fd",
   "metadata": {},
   "outputs": [],
   "source": [
    "l=[1,2,3,4,5,6,7,8,9,10]"
   ]
  },
  {
   "cell_type": "code",
   "execution_count": 38,
   "id": "df7c2f8f-a963-4b65-9957-bbbc3f6ed81a",
   "metadata": {},
   "outputs": [
    {
     "data": {
      "text/plain": [
       "[1, 3, 5, 7, 9]"
      ]
     },
     "execution_count": 38,
     "metadata": {},
     "output_type": "execute_result"
    }
   ],
   "source": [
    "list(filter(lambda x:x%2!=0,l))"
   ]
  },
  {
   "cell_type": "code",
   "execution_count": 22,
   "id": "5292160c-4333-4346-8fcb-2f6833e4ba0e",
   "metadata": {},
   "outputs": [],
   "source": [
    "l=[1,2,3,4,5,6,-1,-2,-3,-4,-5,0]"
   ]
  },
  {
   "cell_type": "code",
   "execution_count": 23,
   "id": "56c45547-69e6-4e52-a3d3-11aad3e78587",
   "metadata": {},
   "outputs": [
    {
     "data": {
      "text/plain": [
       "[1, 2, 3, 4, 5, 6, -1, -2, -3, -4, -5, 0]"
      ]
     },
     "execution_count": 23,
     "metadata": {},
     "output_type": "execute_result"
    }
   ],
   "source": [
    "l"
   ]
  },
  {
   "cell_type": "code",
   "execution_count": 24,
   "id": "d545bee9-95cb-46ed-b50a-7e0d1d79fdcb",
   "metadata": {},
   "outputs": [
    {
     "data": {
      "text/plain": [
       "[1, 2, 3, 4, 5, 6, 0]"
      ]
     },
     "execution_count": 24,
     "metadata": {},
     "output_type": "execute_result"
    }
   ],
   "source": [
    "list(filter(lambda x : x>=0 ,l))"
   ]
  },
  {
   "cell_type": "code",
   "execution_count": 25,
   "id": "a563789e-caf7-4874-a856-52b82ddbeff1",
   "metadata": {},
   "outputs": [
    {
     "data": {
      "text/plain": [
       "[-1, -2, -3, -4, -5]"
      ]
     },
     "execution_count": 25,
     "metadata": {},
     "output_type": "execute_result"
    }
   ],
   "source": [
    "list(filter(lambda x:x<0,l))"
   ]
  },
  {
   "cell_type": "code",
   "execution_count": null,
   "id": "e4816375-8d8d-4df0-a8b5-c9da10709c48",
   "metadata": {},
   "outputs": [],
   "source": []
  }
 ],
 "metadata": {
  "kernelspec": {
   "display_name": "Python 3 (ipykernel)",
   "language": "python",
   "name": "python3"
  },
  "language_info": {
   "codemirror_mode": {
    "name": "ipython",
    "version": 3
   },
   "file_extension": ".py",
   "mimetype": "text/x-python",
   "name": "python",
   "nbconvert_exporter": "python",
   "pygments_lexer": "ipython3",
   "version": "3.10.8"
  }
 },
 "nbformat": 4,
 "nbformat_minor": 5
}
